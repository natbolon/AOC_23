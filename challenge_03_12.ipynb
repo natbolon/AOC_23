{
 "cells": [
  {
   "cell_type": "code",
   "execution_count": 1,
   "metadata": {},
   "outputs": [],
   "source": [
    "with open('data/input_03_12.txt', 'r') as f:\n",
    "    input = f.readlines()"
   ]
  },
  {
   "cell_type": "code",
   "execution_count": 2,
   "metadata": {},
   "outputs": [],
   "source": [
    "test = \"\"\"467..114..\n",
    "...*......\n",
    "..35..633.\n",
    "......#...\n",
    "617*......\n",
    ".....+.58.\n",
    "..592.....\n",
    "......755.\n",
    "...$.*....\n",
    ".664.598..\"\"\""
   ]
  },
  {
   "cell_type": "code",
   "execution_count": 3,
   "metadata": {},
   "outputs": [],
   "source": [
    "test_answer = 4361"
   ]
  },
  {
   "cell_type": "code",
   "execution_count": 4,
   "metadata": {},
   "outputs": [],
   "source": [
    "import re"
   ]
  },
  {
   "cell_type": "code",
   "execution_count": 7,
   "metadata": {},
   "outputs": [],
   "source": [
    "def get_value(text):\n",
    "    total_sum = 0\n",
    "    if isinstance(text, str):\n",
    "        matrix_text = text.split('\\n')\n",
    "    else:\n",
    "        matrix_text = text\n",
    "    for idx, row in enumerate(matrix_text):\n",
    "        #print('New row: ', idx)\n",
    "        row = row.strip()\n",
    "        for match in re.finditer(r'\\d+', row):\n",
    "            c = match.group()\n",
    "            s = match.start()\n",
    "            e = match.end() -1\n",
    "                \n",
    "            look_idx_s = max(s-1, 0)\n",
    "            look_idx_e = min(len(row)-1, e + 1)\n",
    "\n",
    "            # select surrounding cells\n",
    "            pre_row = matrix_text[max(idx-1, 0)][look_idx_s:look_idx_e + 1]\n",
    "            current_row = row[look_idx_s] + row[look_idx_e]\n",
    "            next_row = matrix_text[min(idx+1, len(matrix_text) - 1)][look_idx_s:look_idx_e + 1]\n",
    "\n",
    "            # replace all digits by . \n",
    "            candidates = re.sub(r'\\d', '.', pre_row + current_row + next_row)\n",
    "            # get all characters we have in the surrounding and remove '.'\n",
    "            candidates = set(candidates)\n",
    "            candidates.remove('.')\n",
    "            # if there are symbols, add the number\n",
    "            if len(candidates) > 0:\n",
    "                total_sum += int(c)\n",
    "\n",
    "    return total_sum\n",
    "\n",
    "total_sum = get_value(test)              \n",
    "assert total_sum == test_answer\n",
    "#total_sum\n"
   ]
  },
  {
   "cell_type": "code",
   "execution_count": 8,
   "metadata": {},
   "outputs": [
    {
     "data": {
      "text/plain": [
       "533775"
      ]
     },
     "execution_count": 8,
     "metadata": {},
     "output_type": "execute_result"
    }
   ],
   "source": [
    "get_value(input)"
   ]
  },
  {
   "cell_type": "markdown",
   "metadata": {},
   "source": [
    "Part II "
   ]
  },
  {
   "cell_type": "code",
   "execution_count": 25,
   "metadata": {},
   "outputs": [],
   "source": [
    "solution_part_2 = 467835"
   ]
  },
  {
   "cell_type": "code",
   "execution_count": 19,
   "metadata": {},
   "outputs": [],
   "source": [
    "def get_potential_gears(text):\n",
    "    case = {}\n",
    "    if isinstance(text, str):\n",
    "        matrix_text = text.split('\\n')\n",
    "    else:\n",
    "        matrix_text = text\n",
    "    for idx, row in enumerate(matrix_text):\n",
    "        #print('New row: ', idx)\n",
    "        row = row.strip()\n",
    "        for match in re.finditer(r'\\d+', row):\n",
    "            c = match.group()\n",
    "            s = match.start()\n",
    "            e = match.end() -1\n",
    "                \n",
    "            look_idx_s = max(s-1, 0)\n",
    "            look_idx_e = min(len(row)-1, e + 1)\n",
    "\n",
    "            # select surrounding cells\n",
    "            pre_row = matrix_text[max(idx-1, 0)][look_idx_s:look_idx_e + 1]\n",
    "            current_row = row[look_idx_s] + row[look_idx_e]\n",
    "            next_row = matrix_text[min(idx+1, len(matrix_text) - 1)][look_idx_s:look_idx_e + 1]\n",
    "\n",
    "            r, col = None, None\n",
    "            if '*' in pre_row:\n",
    "                \n",
    "                r = max(idx-1, 0)\n",
    "                col = look_idx_s + pre_row.index('*')\n",
    "                \n",
    "            elif '*' == row[look_idx_s]:\n",
    "               \n",
    "                r = idx\n",
    "                col = look_idx_s\n",
    "                \n",
    "            elif '*' == row[look_idx_e]:\n",
    "                \n",
    "                r = idx\n",
    "                col = look_idx_e\n",
    "                \n",
    "            elif '*' in next_row:\n",
    "                \n",
    "                r = min(idx+1, len(matrix_text) - 1)\n",
    "                col = look_idx_s + next_row.index('*')\n",
    "            \n",
    "            v = case.get((r, col), [])\n",
    "            v.append(int(c))\n",
    "            case[(r, col)] = v\n",
    "\n",
    "    return case"
   ]
  },
  {
   "cell_type": "code",
   "execution_count": 27,
   "metadata": {},
   "outputs": [],
   "source": [
    "def get_sum_gear(case):\n",
    "    total_gear_sum = 0\n",
    "    for k, v in case.items():\n",
    "        if len(v) == 2 and k[0] is not None:\n",
    "            total_gear_sum += v[0]*v[1]\n",
    "    return total_gear_sum"
   ]
  },
  {
   "cell_type": "code",
   "execution_count": 20,
   "metadata": {},
   "outputs": [],
   "source": [
    "case = get_potential_gears(test)"
   ]
  },
  {
   "cell_type": "code",
   "execution_count": 29,
   "metadata": {},
   "outputs": [
    {
     "name": "stdout",
     "output_type": "stream",
     "text": [
      "467835\n"
     ]
    }
   ],
   "source": [
    "get_sum_gear(case)\n",
    "print(total_gear_sum)\n",
    "assert total_gear_sum == solution_part_2"
   ]
  },
  {
   "cell_type": "code",
   "execution_count": 30,
   "metadata": {},
   "outputs": [
    {
     "data": {
      "text/plain": [
       "78236071"
      ]
     },
     "execution_count": 30,
     "metadata": {},
     "output_type": "execute_result"
    }
   ],
   "source": [
    "case = get_potential_gears(input)\n",
    "get_sum_gear(case)"
   ]
  },
  {
   "cell_type": "code",
   "execution_count": null,
   "metadata": {},
   "outputs": [],
   "source": []
  }
 ],
 "metadata": {
  "kernelspec": {
   "display_name": "swisscom",
   "language": "python",
   "name": "python3"
  },
  "language_info": {
   "codemirror_mode": {
    "name": "ipython",
    "version": 3
   },
   "file_extension": ".py",
   "mimetype": "text/x-python",
   "name": "python",
   "nbconvert_exporter": "python",
   "pygments_lexer": "ipython3",
   "version": "3.9.0"
  }
 },
 "nbformat": 4,
 "nbformat_minor": 2
}
